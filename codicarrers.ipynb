{
 "cells": [
  {
   "cell_type": "code",
   "execution_count": 1,
   "id": "8a68b579-7236-40be-9482-70966392fe02",
   "metadata": {},
   "outputs": [],
   "source": [
    "import pandas as pd\n",
    "from matplotlib import pyplot as plt\n",
    "import numpy as np\n",
    "import seaborn as sns\n",
    "import geopandas as gpd\n",
    "import math \n",
    "import collections"
   ]
  },
  {
   "cell_type": "markdown",
   "id": "4b7ca78a-7059-4c0e-b882-2fbf5b1088c6",
   "metadata": {},
   "source": [
    "### Afegim el fitxer shapefile"
   ]
  },
  {
   "cell_type": "code",
   "execution_count": 2,
   "id": "684b8cbc-35cd-4e95-96f1-ce14cfc3439d",
   "metadata": {},
   "outputs": [],
   "source": [
    "db1=gpd.read_file('bseccenv10sh1f1_20210101_0.shp')"
   ]
  },
  {
   "cell_type": "markdown",
   "id": "eb52e2b5-7e6d-49d2-82ca-0e373767c54e",
   "metadata": {},
   "source": [
    "### Seleccionem els municipis que ens interessen"
   ]
  },
  {
   "cell_type": "code",
   "execution_count": 3,
   "id": "b2791f55-e633-4580-80db-2570e6d9d457",
   "metadata": {},
   "outputs": [],
   "source": [
    "df2=db1.loc[db1['MUNICIPI'].isin(['080193', '081017'])]"
   ]
  },
  {
   "cell_type": "markdown",
   "id": "a2002991-74ff-4458-8ab4-2bfb8a23daec",
   "metadata": {},
   "source": [
    "### Afegim el fixer amb dades socioeconòmiques"
   ]
  },
  {
   "cell_type": "code",
   "execution_count": 4,
   "id": "e542ffe5-3450-4d96-8cd7-2b7aa198d3c6",
   "metadata": {},
   "outputs": [],
   "source": [
    "renda=pd.read_excel('dades.xlsx')"
   ]
  },
  {
   "cell_type": "markdown",
   "id": "ef1ba5c3-c702-461e-aac2-7a139959775e",
   "metadata": {},
   "source": [
    "### Creem i convertim MUNDISSEC en un int64"
   ]
  },
  {
   "cell_type": "code",
   "execution_count": 8,
   "id": "c3430002-b566-417c-8c82-ced7d4463a69",
   "metadata": {},
   "outputs": [],
   "source": [
    "df2['MUNDISSEC']=pd.to_numeric(df2['MUNDISSEC'])"
   ]
  },
  {
   "cell_type": "markdown",
   "id": "6f72514e-01dd-42af-8488-dfe2e7ce1ef7",
   "metadata": {},
   "source": [
    "### Agrupem el df2 (polígons) amb la renda (dades de la renda)"
   ]
  },
  {
   "cell_type": "code",
   "execution_count": 9,
   "id": "ad32da74-c8b1-4458-b69a-906a1600beee",
   "metadata": {},
   "outputs": [],
   "source": [
    "df3=df2.merge(renda, on='MUNDISSEC', how='right')"
   ]
  },
  {
   "cell_type": "markdown",
   "id": "59a0c654-1b67-4abd-991a-1dd22f524a36",
   "metadata": {},
   "source": [
    "### Afegim el fitxer amb les adreces"
   ]
  },
  {
   "cell_type": "code",
   "execution_count": 10,
   "id": "e990b554-7964-4fcb-881d-3e3cdf65d4ee",
   "metadata": {},
   "outputs": [],
   "source": [
    "carrers=pd.read_csv('TAULA_DIRELE_SEC_CENS.csv')"
   ]
  },
  {
   "cell_type": "markdown",
   "id": "cd4057c9-cbba-456b-b6b7-a06ca24818b6",
   "metadata": {},
   "source": [
    "### Canviem el nom de TORRENT DE L'OLLA I GV CARLES III ja que el programa no els llegia correctament"
   ]
  },
  {
   "cell_type": "code",
   "execution_count": 11,
   "id": "afa3b5b5-580d-4ba0-9322-cddb723d842b",
   "metadata": {
    "tags": []
   },
   "outputs": [],
   "source": [
    "carrers['NOM_CARRER']=carrers['NOM_CARRER'].replace([\"G.V. Carles III\"],['GV Carles 3'])\n",
    "carrers['NOM_CARRER']=carrers['NOM_CARRER'].replace([\"Torrent de l'Olla\"],['Torrent Olla'])"
   ]
  },
  {
   "cell_type": "markdown",
   "id": "df764b60-37b0-492b-a819-0365bbec923c",
   "metadata": {},
   "source": [
    "### Eliminem columnes innecessàries"
   ]
  },
  {
   "cell_type": "code",
   "execution_count": 12,
   "id": "9fa652c3-dd8a-44df-b308-51ae6bd15bae",
   "metadata": {},
   "outputs": [],
   "source": [
    "carrers2=carrers.drop(columns=['PRIMER_NUM', 'ULTIM_NUM', 'TIPUSNUM', 'AEB', 'SECC_EST'])"
   ]
  },
  {
   "cell_type": "markdown",
   "id": "e4d546fb-dd99-4282-b1e9-3be6f2985510",
   "metadata": {},
   "source": [
    "### Creem MUNDISSEC que ens permetrà relacionar els carrers amb els polígons."
   ]
  },
  {
   "cell_type": "code",
   "execution_count": 13,
   "id": "497de071-2881-4b98-81bc-fac72b08bbaa",
   "metadata": {},
   "outputs": [],
   "source": [
    "carrers2['Seccio_censal']=carrers2['DISTRICTE']*1000+carrers2['SECC_CENS']"
   ]
  },
  {
   "cell_type": "code",
   "execution_count": 14,
   "id": "f811272b-956d-4ba3-96a1-d9cbb8d088d8",
   "metadata": {},
   "outputs": [],
   "source": [
    "carrers2['Secciocensal']= carrers2['Seccio_censal'].astype(str).str.zfill(5) "
   ]
  },
  {
   "cell_type": "code",
   "execution_count": 15,
   "id": "91537d5d-15be-4686-acc3-1616c484e092",
   "metadata": {},
   "outputs": [],
   "source": [
    "carrers2['Codimunicipi']='80193'"
   ]
  },
  {
   "cell_type": "code",
   "execution_count": 16,
   "id": "04016b72-061d-451c-bffe-dbdfbb3e1f0e",
   "metadata": {},
   "outputs": [],
   "source": [
    "carrers2['MUNDISSEC']=carrers2['Codimunicipi'].map(str)+carrers2['Secciocensal'].map(str)"
   ]
  },
  {
   "cell_type": "code",
   "execution_count": 17,
   "id": "4550dd0c-c50b-4a43-a2de-9e87471206a1",
   "metadata": {},
   "outputs": [],
   "source": [
    "carrers2['MUNDISSEC'] = carrers2['MUNDISSEC'].fillna(0).astype(np.int64)"
   ]
  },
  {
   "cell_type": "markdown",
   "id": "f846e0f2-322d-412a-a177-aa60283b4b84",
   "metadata": {},
   "source": [
    "### Afegim les seccions que la pròpia base de dades no tenia"
   ]
  },
  {
   "cell_type": "code",
   "execution_count": 20,
   "id": "4971a0aa-5063-4626-969e-d3a1fbfc4ff0",
   "metadata": {},
   "outputs": [],
   "source": [
    "afegit=pd.read_excel('afegit.xlsx')\n",
    "frames = [carrers2, afegit]\n",
    "carrers2 = pd.concat(frames)"
   ]
  },
  {
   "cell_type": "markdown",
   "id": "3281d720-9fd3-4a01-a39f-dcd37bce213c",
   "metadata": {},
   "source": [
    "### Ara sí, afegim el fitxer amb els carrers que nosaltres hem seleccionat."
   ]
  },
  {
   "cell_type": "code",
   "execution_count": 21,
   "id": "debc26bf",
   "metadata": {},
   "outputs": [],
   "source": [
    "carrers_selecc=pd.read_excel('carrers_def.xlsx')"
   ]
  },
  {
   "cell_type": "markdown",
   "id": "dce0c881-46ce-4c0b-b043-ee596814647e",
   "metadata": {},
   "source": [
    "### Els agrupem amb el fitxer de carrers de l'ajuntament."
   ]
  },
  {
   "cell_type": "code",
   "execution_count": 22,
   "id": "a1772a40",
   "metadata": {},
   "outputs": [],
   "source": [
    "carrersde=carrers2.merge(carrers_selecc,on='NOM_CARRER', how='right')"
   ]
  },
  {
   "cell_type": "code",
   "execution_count": 23,
   "id": "0bf6db46-fde1-4a7d-b485-2b77478bafc8",
   "metadata": {},
   "outputs": [
    {
     "data": {
      "text/html": [
       "<div>\n",
       "<style scoped>\n",
       "    .dataframe tbody tr th:only-of-type {\n",
       "        vertical-align: middle;\n",
       "    }\n",
       "\n",
       "    .dataframe tbody tr th {\n",
       "        vertical-align: top;\n",
       "    }\n",
       "\n",
       "    .dataframe thead th {\n",
       "        text-align: right;\n",
       "    }\n",
       "</style>\n",
       "<table border=\"1\" class=\"dataframe\">\n",
       "  <thead>\n",
       "    <tr style=\"text-align: right;\">\n",
       "      <th></th>\n",
       "      <th>CARRER</th>\n",
       "      <th>NOM_CARRER</th>\n",
       "      <th>DISTRICTE</th>\n",
       "      <th>SECC_CENS</th>\n",
       "      <th>BARRI</th>\n",
       "      <th>DPOSTAL</th>\n",
       "      <th>Seccio_censal</th>\n",
       "      <th>Secciocensal</th>\n",
       "      <th>Codimunicipi</th>\n",
       "      <th>MUNDISSEC</th>\n",
       "      <th>Nom_Via</th>\n",
       "      <th>TIPUS</th>\n",
       "      <th>DIRECCIÓ</th>\n",
       "      <th>KM</th>\n",
       "    </tr>\n",
       "  </thead>\n",
       "  <tbody>\n",
       "    <tr>\n",
       "      <th>0</th>\n",
       "      <td>177101.0</td>\n",
       "      <td>Via Laietana</td>\n",
       "      <td>1.0</td>\n",
       "      <td>26.0</td>\n",
       "      <td>2.0</td>\n",
       "      <td>8003.0</td>\n",
       "      <td>1026.0</td>\n",
       "      <td>01026</td>\n",
       "      <td>80193</td>\n",
       "      <td>8019301026</td>\n",
       "      <td>VIA LAIETANA</td>\n",
       "      <td>Via</td>\n",
       "      <td>V</td>\n",
       "      <td>1.130</td>\n",
       "    </tr>\n",
       "    <tr>\n",
       "      <th>1</th>\n",
       "      <td>177101.0</td>\n",
       "      <td>Via Laietana</td>\n",
       "      <td>1.0</td>\n",
       "      <td>25.0</td>\n",
       "      <td>2.0</td>\n",
       "      <td>8003.0</td>\n",
       "      <td>1025.0</td>\n",
       "      <td>01025</td>\n",
       "      <td>80193</td>\n",
       "      <td>8019301025</td>\n",
       "      <td>VIA LAIETANA</td>\n",
       "      <td>Via</td>\n",
       "      <td>V</td>\n",
       "      <td>1.130</td>\n",
       "    </tr>\n",
       "    <tr>\n",
       "      <th>2</th>\n",
       "      <td>177101.0</td>\n",
       "      <td>Via Laietana</td>\n",
       "      <td>1.0</td>\n",
       "      <td>23.0</td>\n",
       "      <td>2.0</td>\n",
       "      <td>8003.0</td>\n",
       "      <td>1023.0</td>\n",
       "      <td>01023</td>\n",
       "      <td>80193</td>\n",
       "      <td>8019301023</td>\n",
       "      <td>VIA LAIETANA</td>\n",
       "      <td>Via</td>\n",
       "      <td>V</td>\n",
       "      <td>1.130</td>\n",
       "    </tr>\n",
       "    <tr>\n",
       "      <th>3</th>\n",
       "      <td>177101.0</td>\n",
       "      <td>Via Laietana</td>\n",
       "      <td>1.0</td>\n",
       "      <td>46.0</td>\n",
       "      <td>4.0</td>\n",
       "      <td>8003.0</td>\n",
       "      <td>1046.0</td>\n",
       "      <td>01046</td>\n",
       "      <td>80193</td>\n",
       "      <td>8019301046</td>\n",
       "      <td>VIA LAIETANA</td>\n",
       "      <td>Via</td>\n",
       "      <td>V</td>\n",
       "      <td>1.130</td>\n",
       "    </tr>\n",
       "    <tr>\n",
       "      <th>4</th>\n",
       "      <td>177101.0</td>\n",
       "      <td>Via Laietana</td>\n",
       "      <td>1.0</td>\n",
       "      <td>47.0</td>\n",
       "      <td>4.0</td>\n",
       "      <td>8003.0</td>\n",
       "      <td>1047.0</td>\n",
       "      <td>01047</td>\n",
       "      <td>80193</td>\n",
       "      <td>8019301047</td>\n",
       "      <td>VIA LAIETANA</td>\n",
       "      <td>Via</td>\n",
       "      <td>V</td>\n",
       "      <td>1.130</td>\n",
       "    </tr>\n",
       "    <tr>\n",
       "      <th>...</th>\n",
       "      <td>...</td>\n",
       "      <td>...</td>\n",
       "      <td>...</td>\n",
       "      <td>...</td>\n",
       "      <td>...</td>\n",
       "      <td>...</td>\n",
       "      <td>...</td>\n",
       "      <td>...</td>\n",
       "      <td>...</td>\n",
       "      <td>...</td>\n",
       "      <td>...</td>\n",
       "      <td>...</td>\n",
       "      <td>...</td>\n",
       "      <td>...</td>\n",
       "    </tr>\n",
       "    <tr>\n",
       "      <th>2676</th>\n",
       "      <td>97807.0</td>\n",
       "      <td>Dante Alighieri</td>\n",
       "      <td>7.0</td>\n",
       "      <td>119.0</td>\n",
       "      <td>43.0</td>\n",
       "      <td>8032.0</td>\n",
       "      <td>7119.0</td>\n",
       "      <td>07119</td>\n",
       "      <td>80193</td>\n",
       "      <td>8019307119</td>\n",
       "      <td>DANTE ALIGHIERI</td>\n",
       "      <td>Carrer</td>\n",
       "      <td>T</td>\n",
       "      <td>0.976</td>\n",
       "    </tr>\n",
       "    <tr>\n",
       "      <th>2677</th>\n",
       "      <td>97807.0</td>\n",
       "      <td>Dante Alighieri</td>\n",
       "      <td>7.0</td>\n",
       "      <td>71.0</td>\n",
       "      <td>37.0</td>\n",
       "      <td>8032.0</td>\n",
       "      <td>7071.0</td>\n",
       "      <td>07071</td>\n",
       "      <td>80193</td>\n",
       "      <td>8019307071</td>\n",
       "      <td>DANTE ALIGHIERI</td>\n",
       "      <td>Carrer</td>\n",
       "      <td>T</td>\n",
       "      <td>0.976</td>\n",
       "    </tr>\n",
       "    <tr>\n",
       "      <th>2678</th>\n",
       "      <td>97807.0</td>\n",
       "      <td>Dante Alighieri</td>\n",
       "      <td>7.0</td>\n",
       "      <td>72.0</td>\n",
       "      <td>37.0</td>\n",
       "      <td>8032.0</td>\n",
       "      <td>7072.0</td>\n",
       "      <td>07072</td>\n",
       "      <td>80193</td>\n",
       "      <td>8019307072</td>\n",
       "      <td>DANTE ALIGHIERI</td>\n",
       "      <td>Carrer</td>\n",
       "      <td>T</td>\n",
       "      <td>0.976</td>\n",
       "    </tr>\n",
       "    <tr>\n",
       "      <th>2679</th>\n",
       "      <td>97807.0</td>\n",
       "      <td>Dante Alighieri</td>\n",
       "      <td>7.0</td>\n",
       "      <td>73.0</td>\n",
       "      <td>37.0</td>\n",
       "      <td>8032.0</td>\n",
       "      <td>7073.0</td>\n",
       "      <td>07073</td>\n",
       "      <td>80193</td>\n",
       "      <td>8019307073</td>\n",
       "      <td>DANTE ALIGHIERI</td>\n",
       "      <td>Carrer</td>\n",
       "      <td>T</td>\n",
       "      <td>0.976</td>\n",
       "    </tr>\n",
       "    <tr>\n",
       "      <th>2680</th>\n",
       "      <td>97807.0</td>\n",
       "      <td>Dante Alighieri</td>\n",
       "      <td>7.0</td>\n",
       "      <td>80.0</td>\n",
       "      <td>37.0</td>\n",
       "      <td>8032.0</td>\n",
       "      <td>7080.0</td>\n",
       "      <td>07080</td>\n",
       "      <td>80193</td>\n",
       "      <td>8019307080</td>\n",
       "      <td>DANTE ALIGHIERI</td>\n",
       "      <td>Carrer</td>\n",
       "      <td>T</td>\n",
       "      <td>0.976</td>\n",
       "    </tr>\n",
       "  </tbody>\n",
       "</table>\n",
       "<p>2681 rows × 14 columns</p>\n",
       "</div>"
      ],
      "text/plain": [
       "        CARRER       NOM_CARRER  DISTRICTE  SECC_CENS  BARRI  DPOSTAL  \\\n",
       "0     177101.0     Via Laietana        1.0       26.0    2.0   8003.0   \n",
       "1     177101.0     Via Laietana        1.0       25.0    2.0   8003.0   \n",
       "2     177101.0     Via Laietana        1.0       23.0    2.0   8003.0   \n",
       "3     177101.0     Via Laietana        1.0       46.0    4.0   8003.0   \n",
       "4     177101.0     Via Laietana        1.0       47.0    4.0   8003.0   \n",
       "...        ...              ...        ...        ...    ...      ...   \n",
       "2676   97807.0  Dante Alighieri        7.0      119.0   43.0   8032.0   \n",
       "2677   97807.0  Dante Alighieri        7.0       71.0   37.0   8032.0   \n",
       "2678   97807.0  Dante Alighieri        7.0       72.0   37.0   8032.0   \n",
       "2679   97807.0  Dante Alighieri        7.0       73.0   37.0   8032.0   \n",
       "2680   97807.0  Dante Alighieri        7.0       80.0   37.0   8032.0   \n",
       "\n",
       "      Seccio_censal Secciocensal Codimunicipi   MUNDISSEC          Nom_Via  \\\n",
       "0            1026.0        01026        80193  8019301026     VIA LAIETANA   \n",
       "1            1025.0        01025        80193  8019301025     VIA LAIETANA   \n",
       "2            1023.0        01023        80193  8019301023     VIA LAIETANA   \n",
       "3            1046.0        01046        80193  8019301046     VIA LAIETANA   \n",
       "4            1047.0        01047        80193  8019301047     VIA LAIETANA   \n",
       "...             ...          ...          ...         ...              ...   \n",
       "2676         7119.0        07119        80193  8019307119  DANTE ALIGHIERI   \n",
       "2677         7071.0        07071        80193  8019307071  DANTE ALIGHIERI   \n",
       "2678         7072.0        07072        80193  8019307072  DANTE ALIGHIERI   \n",
       "2679         7073.0        07073        80193  8019307073  DANTE ALIGHIERI   \n",
       "2680         7080.0        07080        80193  8019307080  DANTE ALIGHIERI   \n",
       "\n",
       "       TIPUS DIRECCIÓ     KM  \n",
       "0        Via        V  1.130  \n",
       "1        Via        V  1.130  \n",
       "2        Via        V  1.130  \n",
       "3        Via        V  1.130  \n",
       "4        Via        V  1.130  \n",
       "...      ...      ...    ...  \n",
       "2676  Carrer        T  0.976  \n",
       "2677  Carrer        T  0.976  \n",
       "2678  Carrer        T  0.976  \n",
       "2679  Carrer        T  0.976  \n",
       "2680  Carrer        T  0.976  \n",
       "\n",
       "[2681 rows x 14 columns]"
      ]
     },
     "execution_count": 23,
     "metadata": {},
     "output_type": "execute_result"
    }
   ],
   "source": [
    "carrersde"
   ]
  },
  {
   "cell_type": "markdown",
   "id": "31e8bba9-bc68-4019-8247-436b2cf1b917",
   "metadata": {},
   "source": [
    "### Quan ajuntem a vegades passa que algunes dades passen a ser floats (amb decimals), cal corregir-ho i posar int."
   ]
  },
  {
   "cell_type": "code",
   "execution_count": 24,
   "id": "05208be5",
   "metadata": {},
   "outputs": [],
   "source": [
    "carrersde['MUNDISSEC']=carrersde['MUNDISSEC'].fillna(0).astype(np.int64)"
   ]
  },
  {
   "cell_type": "markdown",
   "id": "c054778b-4982-4b92-a8e5-73733b2f58b5",
   "metadata": {},
   "source": [
    "### Ara agrupem les dades amb la selecció de carrers"
   ]
  },
  {
   "cell_type": "code",
   "execution_count": 26,
   "id": "833b16b1",
   "metadata": {},
   "outputs": [],
   "source": [
    "total=df3.merge(carrersde,on='MUNDISSEC', how='right')"
   ]
  },
  {
   "cell_type": "markdown",
   "id": "0b9b81bf-7d78-402f-b4d4-bd17f1ea246f",
   "metadata": {},
   "source": [
    "### Calculem les correlacions PER CADA CARRER, ÉS A DIR AGRUPEM LES DADES PER CARRER (UN COP ELIMINADES LES SECCIONS CENSALS DUPLICADES) I CALCULEM LA MEAN()"
   ]
  },
  {
   "cell_type": "code",
   "execution_count": 27,
   "id": "f0eefb0f-e245-4aa2-a303-d911e86a421c",
   "metadata": {},
   "outputs": [],
   "source": [
    "correlacions1=total.drop_duplicates(subset=['MUNDISSEC', 'NOM_CARRER'], keep=\"last\")\n",
    "correlacions2=pd.DataFrame(correlacions1.groupby(['NOM_CARRER']).mean()).reset_index()"
   ]
  },
  {
   "cell_type": "markdown",
   "id": "6bab6a52-9117-4a65-9206-d07b6996278e",
   "metadata": {},
   "source": [
    "### Eliminem les columnes que no serveixen a efectes de correlació (és a dir, EL CODI DE LA SECCIÓ...)"
   ]
  },
  {
   "cell_type": "code",
   "execution_count": 28,
   "id": "eb8dc055-ed2c-4752-98a0-ee5e2b4cc29b",
   "metadata": {},
   "outputs": [],
   "source": [
    "correlacions3=correlacions2.drop(columns=['MUNDISSEC', 'KM','Seccio_censal','BARRI','SECC_CENS', 'DISTRICTE_y', 'DPOSTAL', 'CARRER'])"
   ]
  },
  {
   "cell_type": "markdown",
   "id": "7688cd2a-096f-49b8-aa87-052a7c80ee04",
   "metadata": {},
   "source": [
    "### Creem el gràfic de les correlacions amb la renda."
   ]
  },
  {
   "cell_type": "code",
   "execution_count": 29,
   "id": "a13228ba-6f97-474d-83d3-25bf89dd55e8",
   "metadata": {},
   "outputs": [
    {
     "data": {
      "image/png": "[encoded data removed]",
      "text/plain": [
       "<Figure size 1584x1584 with 2 Axes>"
      ]
     },
     "metadata": {
      "needs_background": "light"
     },
     "output_type": "display_data"
    }
   ],
   "source": [
    "plt.figure(figsize=(22, 22))\n",
    "heatmap = sns.heatmap(correlacions3.corr()[['renda_neta_pers_2019']].sort_values(by='renda_neta_pers_2019', ascending=False), vmin=-1, vmax=1, annot=True)"
   ]
  },
  {
   "cell_type": "code",
   "execution_count": 30,
   "id": "c037557f-a254-44ad-8627-eafbdcee2083",
   "metadata": {},
   "outputs": [],
   "source": [
    "corr_selec = correlacions3[['Sup_mitjana_m2_2019', 'valor_cadastral_unit(€/m2)', 'r_gent_gran', 'r_estudis_universitaris', 'renda_neta_pers_2019','turismes_1000hab', 'r_sanitat', 'lloguer_m_2019']]"
   ]
  },
  {
   "cell_type": "markdown",
   "id": "8748c84e-d8b8-47ff-a0b4-dad317d1a7e0",
   "metadata": {},
   "source": [
    "### Exemple de regressió de la renda amb la superfície mitjana i el valor cadastral."
   ]
  },
  {
   "cell_type": "code",
   "execution_count": 31,
   "id": "d72d52f7-cf31-4250-aeda-413b13adef89",
   "metadata": {},
   "outputs": [
    {
     "data": {
      "image/png": "[encoded data removed]",
      "text/plain": [
       "<Figure size 720x360 with 2 Axes>"
      ]
     },
     "metadata": {
      "needs_background": "light"
     },
     "output_type": "display_data"
    }
   ],
   "source": [
    "pp = sns.PairGrid(data=corr_selec,y_vars=['renda_neta_pers_2019'],x_vars=['Sup_mitjana_m2_2019', 'valor_cadastral_unit(€/m2)'],height=5)\n",
    "pp.map(sns.regplot, color=\"#9ECBD8\")\n",
    "##pp.savefig(\"reg.jpg\", dpi=600)\n",
    "\n",
    "#gg = sns.PairGrid(data=corr_selec,y_vars=['renda_neta_pers_2019'],x_vars=['r_estudis_universitaris','turismes_1000hab', 'r_sanitat', 'lloguer_m_2019'],height=5)\n",
    "#gg.map(sns.regplot, color=\".3\")"
   ]
  },
  {
   "cell_type": "markdown",
   "id": "9f0cdfe1-9729-4c35-ba4d-974a009760f5",
   "metadata": {},
   "source": [
    "### Abans de tot cal eliminar els duplicats de MUNDISSEC segons el nom de carrer. És molt important a l'hora de no repetir observacions."
   ]
  },
  {
   "cell_type": "code",
   "execution_count": 32,
   "id": "a171e413-4f00-430d-8901-5c00407320c2",
   "metadata": {},
   "outputs": [],
   "source": [
    "total2=total.drop_duplicates(subset=['MUNDISSEC', 'NOM_CARRER'], keep=\"last\")"
   ]
  },
  {
   "cell_type": "markdown",
   "id": "0ebbd790-c2f4-4425-8a2b-40b7910554c5",
   "metadata": {},
   "source": [
    "### Li diem que ens faci segons el nom del carrer una descripció (mitjana, std...) per la variable renda."
   ]
  },
  {
   "cell_type": "code",
   "execution_count": 76,
   "id": "e4d5ea89",
   "metadata": {},
   "outputs": [],
   "source": [
    "a=total2.groupby(['NOM_CARRER'])['renda_neta_pers_2019'].describe()"
   ]
  },
  {
   "cell_type": "code",
   "execution_count": 77,
   "id": "61b4c522-58e7-4947-9320-7a983c5c3b03",
   "metadata": {},
   "outputs": [
    {
     "data": {
      "text/html": [
       "<div>\n",
       "<style scoped>\n",
       "    .dataframe tbody tr th:only-of-type {\n",
       "        vertical-align: middle;\n",
       "    }\n",
       "\n",
       "    .dataframe tbody tr th {\n",
       "        vertical-align: top;\n",
       "    }\n",
       "\n",
       "    .dataframe thead th {\n",
       "        text-align: right;\n",
       "    }\n",
       "</style>\n",
       "<table border=\"1\" class=\"dataframe\">\n",
       "  <thead>\n",
       "    <tr style=\"text-align: right;\">\n",
       "      <th></th>\n",
       "      <th>count</th>\n",
       "      <th>mean</th>\n",
       "      <th>std</th>\n",
       "      <th>min</th>\n",
       "      <th>25%</th>\n",
       "      <th>50%</th>\n",
       "      <th>75%</th>\n",
       "      <th>max</th>\n",
       "    </tr>\n",
       "    <tr>\n",
       "      <th>NOM_CARRER</th>\n",
       "      <th></th>\n",
       "      <th></th>\n",
       "      <th></th>\n",
       "      <th></th>\n",
       "      <th></th>\n",
       "      <th></th>\n",
       "      <th></th>\n",
       "      <th></th>\n",
       "    </tr>\n",
       "  </thead>\n",
       "  <tbody>\n",
       "    <tr>\n",
       "      <th>Alí Bei</th>\n",
       "      <td>7.0</td>\n",
       "      <td>17756.714286</td>\n",
       "      <td>2209.929389</td>\n",
       "      <td>14662.0</td>\n",
       "      <td>16464.50</td>\n",
       "      <td>17740.0</td>\n",
       "      <td>19066.50</td>\n",
       "      <td>20833.0</td>\n",
       "    </tr>\n",
       "    <tr>\n",
       "      <th>Ample</th>\n",
       "      <td>4.0</td>\n",
       "      <td>12141.250000</td>\n",
       "      <td>1173.601970</td>\n",
       "      <td>11198.0</td>\n",
       "      <td>11248.25</td>\n",
       "      <td>11838.0</td>\n",
       "      <td>12731.00</td>\n",
       "      <td>13691.0</td>\n",
       "    </tr>\n",
       "    <tr>\n",
       "      <th>Amílcar</th>\n",
       "      <td>9.0</td>\n",
       "      <td>15811.222222</td>\n",
       "      <td>1749.668167</td>\n",
       "      <td>13903.0</td>\n",
       "      <td>15297.00</td>\n",
       "      <td>15684.0</td>\n",
       "      <td>15856.00</td>\n",
       "      <td>20040.0</td>\n",
       "    </tr>\n",
       "    <tr>\n",
       "      <th>Aragó</th>\n",
       "      <td>45.0</td>\n",
       "      <td>18454.177778</td>\n",
       "      <td>3266.004817</td>\n",
       "      <td>13351.0</td>\n",
       "      <td>16354.00</td>\n",
       "      <td>17818.0</td>\n",
       "      <td>19534.00</td>\n",
       "      <td>29083.0</td>\n",
       "    </tr>\n",
       "    <tr>\n",
       "      <th>Aribau</th>\n",
       "      <td>16.0</td>\n",
       "      <td>23015.875000</td>\n",
       "      <td>3222.102396</td>\n",
       "      <td>19148.0</td>\n",
       "      <td>20804.25</td>\n",
       "      <td>22419.5</td>\n",
       "      <td>25200.50</td>\n",
       "      <td>29432.0</td>\n",
       "    </tr>\n",
       "    <tr>\n",
       "      <th>...</th>\n",
       "      <td>...</td>\n",
       "      <td>...</td>\n",
       "      <td>...</td>\n",
       "      <td>...</td>\n",
       "      <td>...</td>\n",
       "      <td>...</td>\n",
       "      <td>...</td>\n",
       "      <td>...</td>\n",
       "    </tr>\n",
       "    <tr>\n",
       "      <th>Via Favència</th>\n",
       "      <td>21.0</td>\n",
       "      <td>12019.142857</td>\n",
       "      <td>2077.213766</td>\n",
       "      <td>8944.0</td>\n",
       "      <td>9959.00</td>\n",
       "      <td>12078.0</td>\n",
       "      <td>13205.00</td>\n",
       "      <td>16660.0</td>\n",
       "    </tr>\n",
       "    <tr>\n",
       "      <th>Via Júlia</th>\n",
       "      <td>9.0</td>\n",
       "      <td>11666.222222</td>\n",
       "      <td>571.932203</td>\n",
       "      <td>10500.0</td>\n",
       "      <td>11346.00</td>\n",
       "      <td>11786.0</td>\n",
       "      <td>12083.00</td>\n",
       "      <td>12393.0</td>\n",
       "    </tr>\n",
       "    <tr>\n",
       "      <th>Via Laietana</th>\n",
       "      <td>8.0</td>\n",
       "      <td>13865.250000</td>\n",
       "      <td>1699.821314</td>\n",
       "      <td>12513.0</td>\n",
       "      <td>12699.25</td>\n",
       "      <td>13509.5</td>\n",
       "      <td>14001.25</td>\n",
       "      <td>17714.0</td>\n",
       "    </tr>\n",
       "    <tr>\n",
       "      <th>Vila i Vilà</th>\n",
       "      <td>5.0</td>\n",
       "      <td>12942.600000</td>\n",
       "      <td>1670.313533</td>\n",
       "      <td>11377.0</td>\n",
       "      <td>11922.00</td>\n",
       "      <td>11936.0</td>\n",
       "      <td>14423.00</td>\n",
       "      <td>15055.0</td>\n",
       "    </tr>\n",
       "    <tr>\n",
       "      <th>Viladomat</th>\n",
       "      <td>24.0</td>\n",
       "      <td>18428.375000</td>\n",
       "      <td>2053.027389</td>\n",
       "      <td>14803.0</td>\n",
       "      <td>17049.00</td>\n",
       "      <td>18584.0</td>\n",
       "      <td>19567.00</td>\n",
       "      <td>23246.0</td>\n",
       "    </tr>\n",
       "  </tbody>\n",
       "</table>\n",
       "<p>135 rows × 8 columns</p>\n",
       "</div>"
      ],
      "text/plain": [
       "              count          mean          std      min       25%      50%  \\\n",
       "NOM_CARRER                                                                   \n",
       "Alí Bei         7.0  17756.714286  2209.929389  14662.0  16464.50  17740.0   \n",
       "Ample           4.0  12141.250000  1173.601970  11198.0  11248.25  11838.0   \n",
       "Amílcar         9.0  15811.222222  1749.668167  13903.0  15297.00  15684.0   \n",
       "Aragó          45.0  18454.177778  3266.004817  13351.0  16354.00  17818.0   \n",
       "Aribau         16.0  23015.875000  3222.102396  19148.0  20804.25  22419.5   \n",
       "...             ...           ...          ...      ...       ...      ...   \n",
       "Via Favència   21.0  12019.142857  2077.213766   8944.0   9959.00  12078.0   \n",
       "Via Júlia       9.0  11666.222222   571.932203  10500.0  11346.00  11786.0   \n",
       "Via Laietana    8.0  13865.250000  1699.821314  12513.0  12699.25  13509.5   \n",
       "Vila i Vilà     5.0  12942.600000  1670.313533  11377.0  11922.00  11936.0   \n",
       "Viladomat      24.0  18428.375000  2053.027389  14803.0  17049.00  18584.0   \n",
       "\n",
       "                   75%      max  \n",
       "NOM_CARRER                       \n",
       "Alí Bei       19066.50  20833.0  \n",
       "Ample         12731.00  13691.0  \n",
       "Amílcar       15856.00  20040.0  \n",
       "Aragó         19534.00  29083.0  \n",
       "Aribau        25200.50  29432.0  \n",
       "...                ...      ...  \n",
       "Via Favència  13205.00  16660.0  \n",
       "Via Júlia     12083.00  12393.0  \n",
       "Via Laietana  14001.25  17714.0  \n",
       "Vila i Vilà   14423.00  15055.0  \n",
       "Viladomat     19567.00  23246.0  \n",
       "\n",
       "[135 rows x 8 columns]"
      ]
     },
     "execution_count": 77,
     "metadata": {},
     "output_type": "execute_result"
    }
   ],
   "source": [
    "a"
   ]
  },
  {
   "cell_type": "markdown",
   "id": "5224c83b-6fdc-4d5e-b8e1-8ed280fcbe3b",
   "metadata": {},
   "source": [
    "### Creem el coeficient de variació de la renda per cada carrer per tal de comparar la desviació estàndard entre els carrers"
   ]
  },
  {
   "cell_type": "code",
   "execution_count": 78,
   "id": "b63c3830",
   "metadata": {},
   "outputs": [],
   "source": [
    "a['coef_var']=a['std']/a['mean']*100"
   ]
  },
  {
   "cell_type": "code",
   "execution_count": 79,
   "id": "2df44dc6",
   "metadata": {},
   "outputs": [
    {
     "data": {
      "text/html": [
       "<div>\n",
       "<style scoped>\n",
       "    .dataframe tbody tr th:only-of-type {\n",
       "        vertical-align: middle;\n",
       "    }\n",
       "\n",
       "    .dataframe tbody tr th {\n",
       "        vertical-align: top;\n",
       "    }\n",
       "\n",
       "    .dataframe thead th {\n",
       "        text-align: right;\n",
       "    }\n",
       "</style>\n",
       "<table border=\"1\" class=\"dataframe\">\n",
       "  <thead>\n",
       "    <tr style=\"text-align: right;\">\n",
       "      <th></th>\n",
       "      <th>coef_var</th>\n",
       "    </tr>\n",
       "    <tr>\n",
       "      <th>NOM_CARRER</th>\n",
       "      <th></th>\n",
       "    </tr>\n",
       "  </thead>\n",
       "  <tbody>\n",
       "    <tr>\n",
       "      <th>Alí Bei</th>\n",
       "      <td>12.445599</td>\n",
       "    </tr>\n",
       "    <tr>\n",
       "      <th>Ample</th>\n",
       "      <td>9.666237</td>\n",
       "    </tr>\n",
       "    <tr>\n",
       "      <th>Amílcar</th>\n",
       "      <td>11.065989</td>\n",
       "    </tr>\n",
       "    <tr>\n",
       "      <th>Aragó</th>\n",
       "      <td>17.697916</td>\n",
       "    </tr>\n",
       "    <tr>\n",
       "      <th>Aribau</th>\n",
       "      <td>13.999478</td>\n",
       "    </tr>\n",
       "    <tr>\n",
       "      <th>...</th>\n",
       "      <td>...</td>\n",
       "    </tr>\n",
       "    <tr>\n",
       "      <th>Via Favència</th>\n",
       "      <td>17.282545</td>\n",
       "    </tr>\n",
       "    <tr>\n",
       "      <th>Via Júlia</th>\n",
       "      <td>4.902463</td>\n",
       "    </tr>\n",
       "    <tr>\n",
       "      <th>Via Laietana</th>\n",
       "      <td>12.259579</td>\n",
       "    </tr>\n",
       "    <tr>\n",
       "      <th>Vila i Vilà</th>\n",
       "      <td>12.905549</td>\n",
       "    </tr>\n",
       "    <tr>\n",
       "      <th>Viladomat</th>\n",
       "      <td>11.140577</td>\n",
       "    </tr>\n",
       "  </tbody>\n",
       "</table>\n",
       "<p>135 rows × 1 columns</p>\n",
       "</div>"
      ],
      "text/plain": [
       "               coef_var\n",
       "NOM_CARRER             \n",
       "Alí Bei       12.445599\n",
       "Ample          9.666237\n",
       "Amílcar       11.065989\n",
       "Aragó         17.697916\n",
       "Aribau        13.999478\n",
       "...                 ...\n",
       "Via Favència  17.282545\n",
       "Via Júlia      4.902463\n",
       "Via Laietana  12.259579\n",
       "Vila i Vilà   12.905549\n",
       "Viladomat     11.140577\n",
       "\n",
       "[135 rows x 1 columns]"
      ]
     },
     "execution_count": 79,
     "metadata": {},
     "output_type": "execute_result"
    }
   ],
   "source": [
    "coef_var=pd.DataFrame(a['coef_var'])\n",
    "coef_var"
   ]
  },
  {
   "cell_type": "markdown",
   "id": "b379d98b-5c47-4348-a434-4580346993de",
   "metadata": {},
   "source": [
    "### Ara podem veure els x carrers amb un coeficient de variació més elevat."
   ]
  },
  {
   "cell_type": "code",
   "execution_count": 80,
   "id": "f5325944",
   "metadata": {},
   "outputs": [
    {
     "data": {
      "text/html": [
       "<div>\n",
       "<style scoped>\n",
       "    .dataframe tbody tr th:only-of-type {\n",
       "        vertical-align: middle;\n",
       "    }\n",
       "\n",
       "    .dataframe tbody tr th {\n",
       "        vertical-align: top;\n",
       "    }\n",
       "\n",
       "    .dataframe thead th {\n",
       "        text-align: right;\n",
       "    }\n",
       "</style>\n",
       "<table border=\"1\" class=\"dataframe\">\n",
       "  <thead>\n",
       "    <tr style=\"text-align: right;\">\n",
       "      <th></th>\n",
       "      <th>coef_var</th>\n",
       "    </tr>\n",
       "    <tr>\n",
       "      <th>NOM_CARRER</th>\n",
       "      <th></th>\n",
       "    </tr>\n",
       "  </thead>\n",
       "  <tbody>\n",
       "    <tr>\n",
       "      <th>Josep Pla</th>\n",
       "      <td>29.094204</td>\n",
       "    </tr>\n",
       "    <tr>\n",
       "      <th>Sant Pere Més Alt</th>\n",
       "      <td>25.346836</td>\n",
       "    </tr>\n",
       "    <tr>\n",
       "      <th>Av Diagonal</th>\n",
       "      <td>24.331681</td>\n",
       "    </tr>\n",
       "    <tr>\n",
       "      <th>Tarragona</th>\n",
       "      <td>24.242831</td>\n",
       "    </tr>\n",
       "    <tr>\n",
       "      <th>Rambla</th>\n",
       "      <td>22.593004</td>\n",
       "    </tr>\n",
       "    <tr>\n",
       "      <th>Tànger</th>\n",
       "      <td>21.833464</td>\n",
       "    </tr>\n",
       "    <tr>\n",
       "      <th>Numància</th>\n",
       "      <td>21.795730</td>\n",
       "    </tr>\n",
       "    <tr>\n",
       "      <th>GV Corts Catalanes</th>\n",
       "      <td>21.277988</td>\n",
       "    </tr>\n",
       "    <tr>\n",
       "      <th>Selva de Mar</th>\n",
       "      <td>20.576412</td>\n",
       "    </tr>\n",
       "    <tr>\n",
       "      <th>Marroc</th>\n",
       "      <td>20.234426</td>\n",
       "    </tr>\n",
       "    <tr>\n",
       "      <th>GV Carles 3</th>\n",
       "      <td>20.143916</td>\n",
       "    </tr>\n",
       "    <tr>\n",
       "      <th>Trav Gràcia</th>\n",
       "      <td>19.968337</td>\n",
       "    </tr>\n",
       "  </tbody>\n",
       "</table>\n",
       "</div>"
      ],
      "text/plain": [
       "                     coef_var\n",
       "NOM_CARRER                   \n",
       "Josep Pla           29.094204\n",
       "Sant Pere Més Alt   25.346836\n",
       "Av Diagonal         24.331681\n",
       "Tarragona           24.242831\n",
       "Rambla              22.593004\n",
       "Tànger              21.833464\n",
       "Numància            21.795730\n",
       "GV Corts Catalanes  21.277988\n",
       "Selva de Mar        20.576412\n",
       "Marroc              20.234426\n",
       "GV Carles 3         20.143916\n",
       "Trav Gràcia         19.968337"
      ]
     },
     "execution_count": 80,
     "metadata": {},
     "output_type": "execute_result"
    }
   ],
   "source": [
    "coef_var.nlargest(12, \"coef_var\")"
   ]
  },
  {
   "cell_type": "markdown",
   "id": "800ec126-41b9-4b18-9b1f-18909df5759b",
   "metadata": {},
   "source": [
    "### I també els més baixos"
   ]
  },
  {
   "cell_type": "code",
   "execution_count": 37,
   "id": "f302ab6f-9738-48b2-9e11-dbff2a6f7c9f",
   "metadata": {},
   "outputs": [
    {
     "data": {
      "text/html": [
       "<div>\n",
       "<style scoped>\n",
       "    .dataframe tbody tr th:only-of-type {\n",
       "        vertical-align: middle;\n",
       "    }\n",
       "\n",
       "    .dataframe tbody tr th {\n",
       "        vertical-align: top;\n",
       "    }\n",
       "\n",
       "    .dataframe thead th {\n",
       "        text-align: right;\n",
       "    }\n",
       "</style>\n",
       "<table border=\"1\" class=\"dataframe\">\n",
       "  <thead>\n",
       "    <tr style=\"text-align: right;\">\n",
       "      <th></th>\n",
       "      <th>coef_var</th>\n",
       "    </tr>\n",
       "    <tr>\n",
       "      <th>NOM_CARRER</th>\n",
       "      <th></th>\n",
       "    </tr>\n",
       "  </thead>\n",
       "  <tbody>\n",
       "    <tr>\n",
       "      <th>Art</th>\n",
       "      <td>2.083894</td>\n",
       "    </tr>\n",
       "    <tr>\n",
       "      <th>Sant Vicenç</th>\n",
       "      <td>3.667752</td>\n",
       "    </tr>\n",
       "    <tr>\n",
       "      <th>Torrent Olla</th>\n",
       "      <td>4.194904</td>\n",
       "    </tr>\n",
       "    <tr>\n",
       "      <th>Pg Bonanova</th>\n",
       "      <td>4.226078</td>\n",
       "    </tr>\n",
       "    <tr>\n",
       "      <th>Nàpols</th>\n",
       "      <td>4.677172</td>\n",
       "    </tr>\n",
       "    <tr>\n",
       "      <th>Via Júlia</th>\n",
       "      <td>4.902463</td>\n",
       "    </tr>\n",
       "    <tr>\n",
       "      <th>Berlín</th>\n",
       "      <td>4.930746</td>\n",
       "    </tr>\n",
       "    <tr>\n",
       "      <th>Fastenrath</th>\n",
       "      <td>5.043124</td>\n",
       "    </tr>\n",
       "    <tr>\n",
       "      <th>Manso</th>\n",
       "      <td>5.325629</td>\n",
       "    </tr>\n",
       "    <tr>\n",
       "      <th>Clot</th>\n",
       "      <td>5.569478</td>\n",
       "    </tr>\n",
       "    <tr>\n",
       "      <th>Felip II</th>\n",
       "      <td>6.399891</td>\n",
       "    </tr>\n",
       "    <tr>\n",
       "      <th>Ginebra</th>\n",
       "      <td>6.445587</td>\n",
       "    </tr>\n",
       "  </tbody>\n",
       "</table>\n",
       "</div>"
      ],
      "text/plain": [
       "              coef_var\n",
       "NOM_CARRER            \n",
       "Art           2.083894\n",
       "Sant Vicenç   3.667752\n",
       "Torrent Olla  4.194904\n",
       "Pg Bonanova   4.226078\n",
       "Nàpols        4.677172\n",
       "Via Júlia     4.902463\n",
       "Berlín        4.930746\n",
       "Fastenrath    5.043124\n",
       "Manso         5.325629\n",
       "Clot          5.569478\n",
       "Felip II      6.399891\n",
       "Ginebra       6.445587"
      ]
     },
     "execution_count": 37,
     "metadata": {},
     "output_type": "execute_result"
    }
   ],
   "source": [
    "coef_var.nsmallest(12, \"coef_var\")"
   ]
  },
  {
   "cell_type": "markdown",
   "id": "ff9c11da-dafc-43ee-a8d8-e57c7ec795df",
   "metadata": {},
   "source": [
    "### Afegim coef_var al df (ja que fins ara el coeficient de variació estava en un df diferent)"
   ]
  },
  {
   "cell_type": "code",
   "execution_count": 66,
   "id": "f88b4940",
   "metadata": {},
   "outputs": [],
   "source": [
    "total3=total.merge(coef_var, on='NOM_CARRER', how='right')"
   ]
  },
  {
   "cell_type": "markdown",
   "id": "3545fab8-91b9-476b-9f0f-461f02d0a7f5",
   "metadata": {},
   "source": [
    "### Podem calcular la mitjana de coeficient de variació per a tots els carrers seleccionats."
   ]
  },
  {
   "cell_type": "code",
   "execution_count": 68,
   "id": "610b1e75-b9e3-4387-aa0e-ddeaaecb309a",
   "metadata": {},
   "outputs": [],
   "source": [
    "TOTAL3=total3.drop_duplicates(subset=['MUNDISSEC', 'NOM_CARRER'], keep='first')"
   ]
  },
  {
   "cell_type": "code",
   "execution_count": 69,
   "id": "2874f762-0eca-4844-b0f2-a0f9554210b7",
   "metadata": {},
   "outputs": [
    {
     "data": {
      "text/plain": [
       "13.41994550833623"
      ]
     },
     "execution_count": 69,
     "metadata": {},
     "output_type": "execute_result"
    }
   ],
   "source": [
    "TOTAL3['coef_var'].mean()"
   ]
  },
  {
   "cell_type": "markdown",
   "id": "27082bab-89c1-4a5d-a89e-72f2ba9e7c7a",
   "metadata": {},
   "source": [
    "## Podem fer la mateixa regressió segons la DIRECCIÓ del carrer"
   ]
  },
  {
   "cell_type": "markdown",
   "id": "5b667471-6c26-4ce6-baf5-48e6a7cbb070",
   "metadata": {},
   "source": [
    "### Mitjana de renda per direcció tenint en compte els carrers."
   ]
  },
  {
   "cell_type": "code",
   "execution_count": 70,
   "id": "46cca5db-ea7d-4ded-b479-9d3dc6e715e5",
   "metadata": {},
   "outputs": [],
   "source": [
    "total4=pd.DataFrame(TOTAL3.groupby(['NOM_CARRER'])['renda_neta_pers_2019'].describe()).reset_index()"
   ]
  },
  {
   "cell_type": "code",
   "execution_count": 71,
   "id": "a1a3c586-9158-41cc-a86e-7323f43ee63d",
   "metadata": {},
   "outputs": [
    {
     "data": {
      "text/html": [
       "<div>\n",
       "<style scoped>\n",
       "    .dataframe tbody tr th:only-of-type {\n",
       "        vertical-align: middle;\n",
       "    }\n",
       "\n",
       "    .dataframe tbody tr th {\n",
       "        vertical-align: top;\n",
       "    }\n",
       "\n",
       "    .dataframe thead th {\n",
       "        text-align: right;\n",
       "    }\n",
       "</style>\n",
       "<table border=\"1\" class=\"dataframe\">\n",
       "  <thead>\n",
       "    <tr style=\"text-align: right;\">\n",
       "      <th></th>\n",
       "      <th>NOM_CARRER</th>\n",
       "      <th>count</th>\n",
       "      <th>mean</th>\n",
       "      <th>std</th>\n",
       "      <th>min</th>\n",
       "      <th>25%</th>\n",
       "      <th>50%</th>\n",
       "      <th>75%</th>\n",
       "      <th>max</th>\n",
       "    </tr>\n",
       "  </thead>\n",
       "  <tbody>\n",
       "    <tr>\n",
       "      <th>0</th>\n",
       "      <td>Alí Bei</td>\n",
       "      <td>7.0</td>\n",
       "      <td>17756.714286</td>\n",
       "      <td>2209.929389</td>\n",
       "      <td>14662.0</td>\n",
       "      <td>16464.50</td>\n",
       "      <td>17740.0</td>\n",
       "      <td>19066.50</td>\n",
       "      <td>20833.0</td>\n",
       "    </tr>\n",
       "    <tr>\n",
       "      <th>1</th>\n",
       "      <td>Ample</td>\n",
       "      <td>4.0</td>\n",
       "      <td>12141.250000</td>\n",
       "      <td>1173.601970</td>\n",
       "      <td>11198.0</td>\n",
       "      <td>11248.25</td>\n",
       "      <td>11838.0</td>\n",
       "      <td>12731.00</td>\n",
       "      <td>13691.0</td>\n",
       "    </tr>\n",
       "    <tr>\n",
       "      <th>2</th>\n",
       "      <td>Amílcar</td>\n",
       "      <td>9.0</td>\n",
       "      <td>15811.222222</td>\n",
       "      <td>1749.668167</td>\n",
       "      <td>13903.0</td>\n",
       "      <td>15297.00</td>\n",
       "      <td>15684.0</td>\n",
       "      <td>15856.00</td>\n",
       "      <td>20040.0</td>\n",
       "    </tr>\n",
       "    <tr>\n",
       "      <th>3</th>\n",
       "      <td>Aragó</td>\n",
       "      <td>45.0</td>\n",
       "      <td>18454.177778</td>\n",
       "      <td>3266.004817</td>\n",
       "      <td>13351.0</td>\n",
       "      <td>16354.00</td>\n",
       "      <td>17818.0</td>\n",
       "      <td>19534.00</td>\n",
       "      <td>29083.0</td>\n",
       "    </tr>\n",
       "    <tr>\n",
       "      <th>4</th>\n",
       "      <td>Aribau</td>\n",
       "      <td>16.0</td>\n",
       "      <td>23015.875000</td>\n",
       "      <td>3222.102396</td>\n",
       "      <td>19148.0</td>\n",
       "      <td>20804.25</td>\n",
       "      <td>22419.5</td>\n",
       "      <td>25200.50</td>\n",
       "      <td>29432.0</td>\n",
       "    </tr>\n",
       "    <tr>\n",
       "      <th>...</th>\n",
       "      <td>...</td>\n",
       "      <td>...</td>\n",
       "      <td>...</td>\n",
       "      <td>...</td>\n",
       "      <td>...</td>\n",
       "      <td>...</td>\n",
       "      <td>...</td>\n",
       "      <td>...</td>\n",
       "      <td>...</td>\n",
       "    </tr>\n",
       "    <tr>\n",
       "      <th>130</th>\n",
       "      <td>Via Favència</td>\n",
       "      <td>21.0</td>\n",
       "      <td>12019.142857</td>\n",
       "      <td>2077.213766</td>\n",
       "      <td>8944.0</td>\n",
       "      <td>9959.00</td>\n",
       "      <td>12078.0</td>\n",
       "      <td>13205.00</td>\n",
       "      <td>16660.0</td>\n",
       "    </tr>\n",
       "    <tr>\n",
       "      <th>131</th>\n",
       "      <td>Via Júlia</td>\n",
       "      <td>9.0</td>\n",
       "      <td>11666.222222</td>\n",
       "      <td>571.932203</td>\n",
       "      <td>10500.0</td>\n",
       "      <td>11346.00</td>\n",
       "      <td>11786.0</td>\n",
       "      <td>12083.00</td>\n",
       "      <td>12393.0</td>\n",
       "    </tr>\n",
       "    <tr>\n",
       "      <th>132</th>\n",
       "      <td>Via Laietana</td>\n",
       "      <td>8.0</td>\n",
       "      <td>13865.250000</td>\n",
       "      <td>1699.821314</td>\n",
       "      <td>12513.0</td>\n",
       "      <td>12699.25</td>\n",
       "      <td>13509.5</td>\n",
       "      <td>14001.25</td>\n",
       "      <td>17714.0</td>\n",
       "    </tr>\n",
       "    <tr>\n",
       "      <th>133</th>\n",
       "      <td>Vila i Vilà</td>\n",
       "      <td>5.0</td>\n",
       "      <td>12942.600000</td>\n",
       "      <td>1670.313533</td>\n",
       "      <td>11377.0</td>\n",
       "      <td>11922.00</td>\n",
       "      <td>11936.0</td>\n",
       "      <td>14423.00</td>\n",
       "      <td>15055.0</td>\n",
       "    </tr>\n",
       "    <tr>\n",
       "      <th>134</th>\n",
       "      <td>Viladomat</td>\n",
       "      <td>24.0</td>\n",
       "      <td>18428.375000</td>\n",
       "      <td>2053.027389</td>\n",
       "      <td>14803.0</td>\n",
       "      <td>17049.00</td>\n",
       "      <td>18584.0</td>\n",
       "      <td>19567.00</td>\n",
       "      <td>23246.0</td>\n",
       "    </tr>\n",
       "  </tbody>\n",
       "</table>\n",
       "<p>135 rows × 9 columns</p>\n",
       "</div>"
      ],
      "text/plain": [
       "       NOM_CARRER  count          mean          std      min       25%  \\\n",
       "0         Alí Bei    7.0  17756.714286  2209.929389  14662.0  16464.50   \n",
       "1           Ample    4.0  12141.250000  1173.601970  11198.0  11248.25   \n",
       "2         Amílcar    9.0  15811.222222  1749.668167  13903.0  15297.00   \n",
       "3           Aragó   45.0  18454.177778  3266.004817  13351.0  16354.00   \n",
       "4          Aribau   16.0  23015.875000  3222.102396  19148.0  20804.25   \n",
       "..            ...    ...           ...          ...      ...       ...   \n",
       "130  Via Favència   21.0  12019.142857  2077.213766   8944.0   9959.00   \n",
       "131     Via Júlia    9.0  11666.222222   571.932203  10500.0  11346.00   \n",
       "132  Via Laietana    8.0  13865.250000  1699.821314  12513.0  12699.25   \n",
       "133   Vila i Vilà    5.0  12942.600000  1670.313533  11377.0  11922.00   \n",
       "134     Viladomat   24.0  18428.375000  2053.027389  14803.0  17049.00   \n",
       "\n",
       "         50%       75%      max  \n",
       "0    17740.0  19066.50  20833.0  \n",
       "1    11838.0  12731.00  13691.0  \n",
       "2    15684.0  15856.00  20040.0  \n",
       "3    17818.0  19534.00  29083.0  \n",
       "4    22419.5  25200.50  29432.0  \n",
       "..       ...       ...      ...  \n",
       "130  12078.0  13205.00  16660.0  \n",
       "131  11786.0  12083.00  12393.0  \n",
       "132  13509.5  14001.25  17714.0  \n",
       "133  11936.0  14423.00  15055.0  \n",
       "134  18584.0  19567.00  23246.0  \n",
       "\n",
       "[135 rows x 9 columns]"
      ]
     },
     "execution_count": 71,
     "metadata": {},
     "output_type": "execute_result"
    }
   ],
   "source": [
    "total4"
   ]
  },
  {
   "cell_type": "code",
   "execution_count": 72,
   "id": "cf6b5b43-0b26-497f-a6a7-c48c1ea8d5ef",
   "metadata": {},
   "outputs": [],
   "source": [
    "total5=total4.merge(carrers_selecc, on='NOM_CARRER', how='right')"
   ]
  },
  {
   "cell_type": "code",
   "execution_count": 73,
   "id": "0486122f-8388-494e-af5a-684249f0d89b",
   "metadata": {},
   "outputs": [],
   "source": [
    "b=total5[['NOM_CARRER', 'DIRECCIÓ']]"
   ]
  },
  {
   "cell_type": "markdown",
   "id": "3490c8f5-28e0-49c5-a6ab-e8c12771a835",
   "metadata": {},
   "source": [
    "### Mitjana de renda per direcció (carrer sencer)"
   ]
  },
  {
   "cell_type": "code",
   "execution_count": 74,
   "id": "62de77b7-8122-460c-8852-31950cb7380f",
   "metadata": {},
   "outputs": [
    {
     "data": {
      "text/html": [
       "<div>\n",
       "<style scoped>\n",
       "    .dataframe tbody tr th:only-of-type {\n",
       "        vertical-align: middle;\n",
       "    }\n",
       "\n",
       "    .dataframe tbody tr th {\n",
       "        vertical-align: top;\n",
       "    }\n",
       "\n",
       "    .dataframe thead th {\n",
       "        text-align: right;\n",
       "    }\n",
       "</style>\n",
       "<table border=\"1\" class=\"dataframe\">\n",
       "  <thead>\n",
       "    <tr style=\"text-align: right;\">\n",
       "      <th></th>\n",
       "      <th>count</th>\n",
       "      <th>mean</th>\n",
       "      <th>std</th>\n",
       "      <th>min</th>\n",
       "      <th>25%</th>\n",
       "      <th>50%</th>\n",
       "      <th>75%</th>\n",
       "      <th>max</th>\n",
       "    </tr>\n",
       "    <tr>\n",
       "      <th>DIRECCIÓ</th>\n",
       "      <th></th>\n",
       "      <th></th>\n",
       "      <th></th>\n",
       "      <th></th>\n",
       "      <th></th>\n",
       "      <th></th>\n",
       "      <th></th>\n",
       "      <th></th>\n",
       "    </tr>\n",
       "  </thead>\n",
       "  <tbody>\n",
       "    <tr>\n",
       "      <th>H</th>\n",
       "      <td>46.0</td>\n",
       "      <td>16800.855345</td>\n",
       "      <td>3816.462827</td>\n",
       "      <td>9087.400000</td>\n",
       "      <td>14126.837500</td>\n",
       "      <td>16969.600806</td>\n",
       "      <td>18963.014881</td>\n",
       "      <td>31501.285714</td>\n",
       "    </tr>\n",
       "    <tr>\n",
       "      <th>T</th>\n",
       "      <td>33.0</td>\n",
       "      <td>16430.359357</td>\n",
       "      <td>4382.201079</td>\n",
       "      <td>10988.818182</td>\n",
       "      <td>13350.150000</td>\n",
       "      <td>15608.562500</td>\n",
       "      <td>16947.000000</td>\n",
       "      <td>26966.909091</td>\n",
       "    </tr>\n",
       "    <tr>\n",
       "      <th>V</th>\n",
       "      <td>56.0</td>\n",
       "      <td>17969.484624</td>\n",
       "      <td>4657.215940</td>\n",
       "      <td>9362.666667</td>\n",
       "      <td>15196.605903</td>\n",
       "      <td>18111.744949</td>\n",
       "      <td>19891.500774</td>\n",
       "      <td>30404.083333</td>\n",
       "    </tr>\n",
       "  </tbody>\n",
       "</table>\n",
       "</div>"
      ],
      "text/plain": [
       "          count          mean          std           min           25%  \\\n",
       "DIRECCIÓ                                                                 \n",
       "H          46.0  16800.855345  3816.462827   9087.400000  14126.837500   \n",
       "T          33.0  16430.359357  4382.201079  10988.818182  13350.150000   \n",
       "V          56.0  17969.484624  4657.215940   9362.666667  15196.605903   \n",
       "\n",
       "                   50%           75%           max  \n",
       "DIRECCIÓ                                            \n",
       "H         16969.600806  18963.014881  31501.285714  \n",
       "T         15608.562500  16947.000000  26966.909091  \n",
       "V         18111.744949  19891.500774  30404.083333  "
      ]
     },
     "execution_count": 74,
     "metadata": {},
     "output_type": "execute_result"
    }
   ],
   "source": [
    "total5.groupby(['DIRECCIÓ'])['mean'].describe()"
   ]
  },
  {
   "cell_type": "markdown",
   "id": "4d949652-e959-4bb5-83c3-4c0230fced40",
   "metadata": {},
   "source": [
    "### Creem general que és la mitjana de totes les variables per carrer"
   ]
  },
  {
   "cell_type": "code",
   "execution_count": 49,
   "id": "107718f5-8398-4615-9967-e3ec08e8cd6a",
   "metadata": {},
   "outputs": [],
   "source": [
    "general=pd.DataFrame(TOTAL3.groupby('NOM_CARRER').mean().reset_index())"
   ]
  },
  {
   "cell_type": "markdown",
   "id": "f137fe9e-b42d-4288-9c7b-cff9336396d1",
   "metadata": {},
   "source": [
    "### Correlació de coef_var i KM"
   ]
  },
  {
   "cell_type": "code",
   "execution_count": 50,
   "id": "e019161d-6419-4e01-a8a5-61efa2dbba3b",
   "metadata": {},
   "outputs": [],
   "source": [
    "general2=general.merge(a, on='NOM_CARRER', how='right')"
   ]
  },
  {
   "cell_type": "code",
   "execution_count": 51,
   "id": "97653a53-3a62-40af-817f-6833e1128cdf",
   "metadata": {},
   "outputs": [
    {
     "data": {
      "image/png": "[encoded data removed]",
      "text/plain": [
       "<Figure size 432x432 with 3 Axes>"
      ]
     },
     "metadata": {},
     "output_type": "display_data"
    }
   ],
   "source": [
    "sns.set_theme(color_codes=True)\n",
    "g=sns.jointplot(data=general2, y='coef_var', x= 'KM', kind=\"reg\")\n",
    "regline = g.ax_joint.get_lines()[0]\n",
    "regline.set_color('red')\n",
    "regline.set_zorder(5)"
   ]
  },
  {
   "cell_type": "markdown",
   "id": "fded23a4-ef04-4ac0-8f93-be4c73cc635b",
   "metadata": {},
   "source": [
    "### Segons la direcció"
   ]
  },
  {
   "cell_type": "code",
   "execution_count": 52,
   "id": "58cd21be-b200-4f4f-bf69-1999d76c2961",
   "metadata": {},
   "outputs": [
    {
     "data": {
      "image/png": "[encoded data removed]",
      "text/plain": [
       "<Figure size 427.3x360 with 1 Axes>"
      ]
     },
     "metadata": {},
     "output_type": "display_data"
    }
   ],
   "source": [
    "sns.set_theme(color_codes=True)\n",
    "bb=sns.lmplot(data=general2, y='coef_var', x= 'KM', hue=\"DIRECCIÓ\", palette=[\"g\", \"C1\", \"k\"])"
   ]
  },
  {
   "cell_type": "markdown",
   "id": "5f679c83-2882-430c-8b84-84a9cd9607f6",
   "metadata": {},
   "source": [
    "### Aquí podem veure la correlació (general i per direcció)"
   ]
  },
  {
   "cell_type": "code",
   "execution_count": 53,
   "id": "95878ada-06dd-4330-af2a-9d1dc6216ed3",
   "metadata": {},
   "outputs": [
    {
     "name": "stdout",
     "output_type": "stream",
     "text": [
      "0.39514089263018687\n"
     ]
    },
    {
     "data": {
      "text/plain": [
       "DIRECCIÓ\n",
       "H    0.476884\n",
       "T    0.633695\n",
       "V    0.052495\n",
       "Name: (coef_var, KM), dtype: float64"
      ]
     },
     "execution_count": 53,
     "metadata": {},
     "output_type": "execute_result"
    }
   ],
   "source": [
    "corr=general2['coef_var'].corr(general2['KM'])\n",
    "print(corr)\n",
    "general2.groupby('DIRECCIÓ')[['coef_var','KM']].corr().unstack().iloc[:,1]\n",
    "#total3.groupby('DIRECCIÓ')[['KM']].describe()"
   ]
  },
  {
   "cell_type": "markdown",
   "id": "f9679669-86a6-4ea4-be0c-144df9546b2f",
   "metadata": {},
   "source": [
    "### Creem l'índex d'habitabilitat."
   ]
  },
  {
   "cell_type": "code",
   "execution_count": 54,
   "id": "1189d717-8374-427f-85ec-2e35dffa360a",
   "metadata": {},
   "outputs": [],
   "source": [
    "general2['indexre']=(np.log10(general2['renda_neta_pers_2019'])-np.log10(100))/(np.log10(60000)-np.log10(100))"
   ]
  },
  {
   "cell_type": "code",
   "execution_count": 55,
   "id": "ac5dc445-18da-4c2f-8b5c-89b1d9debf24",
   "metadata": {},
   "outputs": [],
   "source": [
    "general2['indexbo']=np.log(general2['botig_1000hab'])/np.log(4.5*np.percentile(general2['botig_1000hab'], 75))"
   ]
  },
  {
   "cell_type": "code",
   "execution_count": 56,
   "id": "78f8f9fe-7a03-4392-b21c-803629b036ce",
   "metadata": {},
   "outputs": [],
   "source": [
    "general2['indexsu']=np.log(general2['Sup_mitjana_m2_2019'])/np.log(3*np.percentile(general2['Sup_mitjana_m2_2019'], 75))"
   ]
  },
  {
   "cell_type": "code",
   "execution_count": 57,
   "id": "516f1c46-360f-4ac2-8dda-2bd041bd6dfe",
   "metadata": {},
   "outputs": [],
   "source": [
    "general2['indexes']=np.sqrt(general2['r_estudis_universitaris'])"
   ]
  },
  {
   "cell_type": "code",
   "execution_count": 58,
   "id": "6f6e3e12-8991-47cf-80bc-8288b0cd8d2b",
   "metadata": {},
   "outputs": [],
   "source": [
    "general2['index']=general2[['indexre', 'indexbo', 'indexsu','indexes']].mean(axis=1)"
   ]
  },
  {
   "cell_type": "code",
   "execution_count": 60,
   "id": "08b962d7-f5a5-4b92-9770-e6024153daf4",
   "metadata": {},
   "outputs": [
    {
     "data": {
      "text/plain": [
       "0      0.757979\n",
       "1      0.740732\n",
       "2      0.771246\n",
       "3      0.718666\n",
       "4      0.849511\n",
       "         ...   \n",
       "130    0.624317\n",
       "131    0.741033\n",
       "132    0.625443\n",
       "133    0.793333\n",
       "134    0.659799\n",
       "Name: index, Length: 135, dtype: float64"
      ]
     },
     "execution_count": 60,
     "metadata": {},
     "output_type": "execute_result"
    }
   ],
   "source": [
    "general2['index']"
   ]
  }
 ],
 "metadata": {
  "kernelspec": {
   "display_name": "Python 3 (ipykernel)",
   "language": "python",
   "name": "python3"
  },
  "language_info": {
   "codemirror_mode": {
    "name": "ipython",
    "version": 3
   },
   "file_extension": ".py",
   "mimetype": "text/x-python",
   "name": "python",
   "nbconvert_exporter": "python",
   "pygments_lexer": "ipython3",
   "version": "3.9.7"
  }
 },
 "nbformat": 4,
 "nbformat_minor": 5
}
